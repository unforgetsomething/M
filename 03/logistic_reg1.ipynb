{
 "cells": [
  {
   "cell_type": "markdown",
   "metadata": {},
   "source": [
    "AndrawNg 机器学习 week3 作业"
   ]
  },
  {
   "cell_type": "markdown",
   "metadata": {},
   "source": [
    "逻辑回归 LogisticRegression"
   ]
  },
  {
   "cell_type": "code",
   "execution_count": 1,
   "metadata": {},
   "outputs": [],
   "source": [
    "import pandas as pd\n",
    "import matplotlib.pyplot as plt\n",
    "import numpy as np"
   ]
  },
  {
   "cell_type": "code",
   "execution_count": 2,
   "metadata": {},
   "outputs": [
    {
     "data": {
      "text/html": [
       "<div>\n",
       "<style scoped>\n",
       "    .dataframe tbody tr th:only-of-type {\n",
       "        vertical-align: middle;\n",
       "    }\n",
       "\n",
       "    .dataframe tbody tr th {\n",
       "        vertical-align: top;\n",
       "    }\n",
       "\n",
       "    .dataframe thead th {\n",
       "        text-align: right;\n",
       "    }\n",
       "</style>\n",
       "<table border=\"1\" class=\"dataframe\">\n",
       "  <thead>\n",
       "    <tr style=\"text-align: right;\">\n",
       "      <th></th>\n",
       "      <th>exam1</th>\n",
       "      <th>exam2</th>\n",
       "      <th>admitted</th>\n",
       "    </tr>\n",
       "  </thead>\n",
       "  <tbody>\n",
       "    <tr>\n",
       "      <th>0</th>\n",
       "      <td>34.623660</td>\n",
       "      <td>78.024693</td>\n",
       "      <td>0</td>\n",
       "    </tr>\n",
       "    <tr>\n",
       "      <th>1</th>\n",
       "      <td>30.286711</td>\n",
       "      <td>43.894998</td>\n",
       "      <td>0</td>\n",
       "    </tr>\n",
       "    <tr>\n",
       "      <th>2</th>\n",
       "      <td>35.847409</td>\n",
       "      <td>72.902198</td>\n",
       "      <td>0</td>\n",
       "    </tr>\n",
       "    <tr>\n",
       "      <th>3</th>\n",
       "      <td>60.182599</td>\n",
       "      <td>86.308552</td>\n",
       "      <td>1</td>\n",
       "    </tr>\n",
       "    <tr>\n",
       "      <th>4</th>\n",
       "      <td>79.032736</td>\n",
       "      <td>75.344376</td>\n",
       "      <td>1</td>\n",
       "    </tr>\n",
       "  </tbody>\n",
       "</table>\n",
       "</div>"
      ],
      "text/plain": [
       "       exam1      exam2  admitted\n",
       "0  34.623660  78.024693         0\n",
       "1  30.286711  43.894998         0\n",
       "2  35.847409  72.902198         0\n",
       "3  60.182599  86.308552         1\n",
       "4  79.032736  75.344376         1"
      ]
     },
     "execution_count": 2,
     "metadata": {},
     "output_type": "execute_result"
    }
   ],
   "source": [
    "data = pd.read_csv('ex2data1.txt',header = None,names = ['exam1','exam2','admitted'])\n",
    "data.head()"
   ]
  },
  {
   "cell_type": "markdown",
   "metadata": {},
   "source": [
    "原始散点图"
   ]
  },
  {
   "cell_type": "code",
   "execution_count": 3,
   "metadata": {},
   "outputs": [
    {
     "data": {
      "text/plain": [
       "Text(0, 0.5, 'exam2 score')"
      ]
     },
     "execution_count": 3,
     "metadata": {},
     "output_type": "execute_result"
    },
    {
     "data": {
      "image/png": "[encoded data removed]",
      "text/plain": [
       "<Figure size 864x576 with 1 Axes>"
      ]
     },
     "metadata": {
      "needs_background": "light"
     },
     "output_type": "display_data"
    }
   ],
   "source": [
    "positive = data[data.admitted==1]\n",
    "negative = data[data.admitted==0]\n",
    "\n",
    "plt.subplots(figsize = (12,8))\n",
    "plt.scatter(positive['exam1'],positive['exam2'],s = 50,color = 'blue',marker = 'o',label = 'Admitted')\n",
    "plt.scatter(negative['exam1'],negative['exam2'],s = 50,color = 'red',marker = 'x',label = 'Not Admitted')\n",
    "plt.legend()\n",
    "plt.xlabel('exam1 score')\n",
    "plt.ylabel('exam2 score')\n"
   ]
  },
  {
   "cell_type": "markdown",
   "metadata": {},
   "source": [
    "方法1：梯度下降法"
   ]
  },
  {
   "cell_type": "code",
   "execution_count": 4,
   "metadata": {},
   "outputs": [],
   "source": [
    "#定义sigmoid函数\n",
    "def sigmoid(z):\n",
    "    return 1 / (1 + np.exp(-z))"
   ]
  },
  {
   "cell_type": "code",
   "execution_count": 5,
   "metadata": {},
   "outputs": [],
   "source": [
    "#定义cost function代价函数\n",
    "def computecost(theta,X,y):\n",
    "    first = np.multiply(-y,np.log(sigmoid(X*theta.T)))\n",
    "    second = np.multiply((1-y),np.log(1-sigmoid(X*theta.T)))\n",
    "    return (1/len(y))*np.sum(first-second)"
   ]
  },
  {
   "cell_type": "code",
   "execution_count": 6,
   "metadata": {},
   "outputs": [],
   "source": [
    "#挑选training data和testing data\n",
    "from sklearn.model_selection import train_test_split\n",
    "X = data[['exam1','exam2']]\n",
    "y = data[['admitted']]\n",
    "X_train,X_test,y_train,y_test = train_test_split(X,y,test_size = 0.1,random_state =10)\n",
    "X_train.insert(0,'ones',1)\n",
    "X_test.insert(0,'ones',1)"
   ]
  },
  {
   "cell_type": "code",
   "execution_count": null,
   "metadata": {},
   "outputs": [],
   "source": [
    "#梯度下降\n",
    "theta = np.matrix(np.array([0,0,0]))\n",
    "X_train = np.matrix(X_train)\n",
    "y_train = np.matrix(y_train)\n",
    "#computecost(theta,X_train,y_train)\n",
    "\n",
    "def gradientDescent(theta,X,y,alpha,iter):\n",
    "    m = len(y)\n",
    "    cost = np.zeros(iter)\n",
    "    temp = np.matrix(np.zeros(theta.shape))\n",
    "\n",
    "    for i in range(iter):\n",
    "        y_predicted = sigmoid(X*theta.T)\n",
    "        temp[0,0] = theta[0,0]-alpha*(1/m)*sum(y_predicted-y)\n",
    "        temp[0,1] = theta[0,1]-alpha*(1/m)*sum(np.multiply(X[:,1],(y_predicted-y)))\n",
    "        temp[0,2] = theta[0,2]-alpha*(1/m)*sum(np.multiply(X[:,2],(y_predicted-y)))\n",
    "        theta = temp\n",
    "        cost[i] = computecost(theta,X_train,y_train)\n",
    "        print(f\"theta0 is:{theta[0,0]}\")\n",
    "        print(f\"theta1 is:{theta[0,1]}\")\n",
    "        print(f\"theta2 is:{theta[0,2]}\")\n",
    "        print(f\"cost is:{cost[i]}\")\n",
    "    return theta,cost\n",
    "\n",
    "iter = 200000\n",
    "alpha = 0.001\n",
    "theta,cost = gradientDescent(theta,X_train,y_train,alpha,iter) \n",
    "\n",
    "\n"
   ]
  },
  {
   "cell_type": "code",
   "execution_count": 8,
   "metadata": {},
   "outputs": [
    {
     "data": {
      "text/plain": [
       "matrix([[-7.41456955]])"
      ]
     },
     "execution_count": 8,
     "metadata": {},
     "output_type": "execute_result"
    }
   ],
   "source": [
    "theta1 = theta\n",
    "theta1\n",
    "theta[:,0]"
   ]
  },
  {
   "cell_type": "markdown",
   "metadata": {},
   "source": [
    "逻辑回归可视化"
   ]
  },
  {
   "cell_type": "code",
   "execution_count": 9,
   "metadata": {},
   "outputs": [],
   "source": [
    "x1 = np.matrix(X[['exam1']])\n",
    "x2 = np.matrix(np.zeros(x1.shape))\n",
    "for i in range(len(x1)):\n",
    "    x2[[i]] = -(theta1[:,1]/theta1[:,2])*x1[[i]]-theta1[:,0]/theta1[:,2]"
   ]
  },
  {
   "cell_type": "code",
   "execution_count": 10,
   "metadata": {},
   "outputs": [
    {
     "data": {
      "text/plain": [
       "Text(0, 0.5, 'exam2 score')"
      ]
     },
     "execution_count": 10,
     "metadata": {},
     "output_type": "execute_result"
    },
    {
     "data": {
      "image/png": "[encoded data removed]",
      "text/plain": [
       "<Figure size 864x576 with 1 Axes>"
      ]
     },
     "metadata": {
      "needs_background": "light"
     },
     "output_type": "display_data"
    }
   ],
   "source": [
    "plt.subplots(figsize = (12,8))\n",
    "plt.scatter(positive['exam1'],positive['exam2'],s = 50,color = 'blue',marker = 'o',label = 'Admitted')\n",
    "plt.scatter(negative['exam1'],negative['exam2'],s = 50,color = 'red',marker = 'x',label = 'Not Admitted')\n",
    "plt.plot(x1,x2,'r',linewidth = 1)\n",
    "plt.legend()\n",
    "plt.xlabel('exam1 score')\n",
    "plt.ylabel('exam2 score')\n"
   ]
  },
  {
   "cell_type": "code",
   "execution_count": 11,
   "metadata": {},
   "outputs": [
    {
     "data": {
      "text/plain": [
       "<matplotlib.legend.Legend at 0x2191ba6f0d0>"
      ]
     },
     "execution_count": 11,
     "metadata": {},
     "output_type": "execute_result"
    },
    {
     "data": {
      "image/png": "[encoded data removed]",
      "text/plain": [
       "<Figure size 432x288 with 1 Axes>"
      ]
     },
     "metadata": {
      "needs_background": "light"
     },
     "output_type": "display_data"
    }
   ],
   "source": [
    "plt.plot(cost,'r',linewidth = 1,label = 'alpha = 0.01')\n",
    "plt.xlabel('iterations')\n",
    "plt.ylabel('cost')\n",
    "plt.legend()"
   ]
  },
  {
   "cell_type": "markdown",
   "metadata": {},
   "source": [
    "用工具库计算theta的值（不会）"
   ]
  },
  {
   "cell_type": "code",
   "execution_count": null,
   "metadata": {},
   "outputs": [],
   "source": [
    "# import scipy.optimize as opt\n",
    "# XX = data[['exam1','exam2']]\n",
    "# yy = data[['admitted']]\n",
    "# XX.insert(0,'ones',1)\n",
    "# XX = np.matrix(XX)\n",
    "# yy = np.matrix(yy)\n",
    "# XX = np.squeeze(np.asarray(XX))\n",
    "# yy = np.squeeze(np.asarray(yy))\n",
    "# result = opt.fmin_tnc(func = computecost,x0 = theta,fprime=gradientDescent,args = (X_train,y_train))"
   ]
  },
  {
   "cell_type": "markdown",
   "metadata": {},
   "source": [
    "方法二：sickit learn"
   ]
  },
  {
   "cell_type": "code",
   "execution_count": 15,
   "metadata": {},
   "outputs": [
    {
     "name": "stdout",
     "output_type": "stream",
     "text": [
      "[1 0 1 1 1 1 1 0 0 1]\n",
      "0.8\n"
     ]
    },
    {
     "name": "stderr",
     "output_type": "stream",
     "text": [
      "D:\\python\\anzhuang\\lib\\site-packages\\sklearn\\utils\\validation.py:593: FutureWarning: np.matrix usage is deprecated in 1.0 and will raise a TypeError in 1.2. Please convert to a numpy array with np.asarray. For more information see: https://numpy.org/doc/stable/reference/generated/numpy.matrix.html\n",
      "  warnings.warn(\n",
      "D:\\python\\anzhuang\\lib\\site-packages\\sklearn\\utils\\validation.py:993: DataConversionWarning: A column-vector y was passed when a 1d array was expected. Please change the shape of y to (n_samples, ), for example using ravel().\n",
      "  y = column_or_1d(y, warn=True)\n",
      "D:\\python\\anzhuang\\lib\\site-packages\\sklearn\\base.py:443: UserWarning: X has feature names, but LogisticRegression was fitted without feature names\n",
      "  warnings.warn(\n",
      "D:\\python\\anzhuang\\lib\\site-packages\\sklearn\\base.py:443: UserWarning: X has feature names, but LogisticRegression was fitted without feature names\n",
      "  warnings.warn(\n"
     ]
    }
   ],
   "source": [
    "from sklearn import linear_model\n",
    "\n",
    "model = linear_model.LogisticRegression()\n",
    "model.fit(X_train,y_train)\n",
    "\n",
    "print(model.predict(X_test))\n",
    "print(model.score(X_test,y_test))"
   ]
  }
 ],
 "metadata": {
  "interpreter": {
   "hash": "f32ef77ea81fcb39c4144da4a3e0eae46dc70c4c34d0b9d68f7a08f88e78f0fa"
  },
  "kernelspec": {
   "display_name": "Python 3.10.0 64-bit",
   "language": "python",
   "name": "python3"
  },
  "language_info": {
   "codemirror_mode": {
    "name": "ipython",
    "version": 3
   },
   "file_extension": ".py",
   "mimetype": "text/x-python",
   "name": "python",
   "nbconvert_exporter": "python",
   "pygments_lexer": "ipython3",
   "version": "3.10.0"
  },
  "orig_nbformat": 4
 },
 "nbformat": 4,
 "nbformat_minor": 2
}
