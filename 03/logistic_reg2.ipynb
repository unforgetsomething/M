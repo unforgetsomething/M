{
 "cells": [
  {
   "cell_type": "markdown",
   "metadata": {},
   "source": [
    "AndrewNg 机器学习 week3 作业"
   ]
  },
  {
   "cell_type": "markdown",
   "metadata": {},
   "source": [
    "逻辑回归 正则化处理"
   ]
  },
  {
   "cell_type": "code",
   "execution_count": 420,
   "metadata": {},
   "outputs": [],
   "source": [
    "import pandas as pd\n",
    "import matplotlib.pyplot as plt\n",
    "import numpy as np"
   ]
  },
  {
   "cell_type": "code",
   "execution_count": 421,
   "metadata": {},
   "outputs": [
    {
     "data": {
      "text/html": [
       "<div>\n",
       "<style scoped>\n",
       "    .dataframe tbody tr th:only-of-type {\n",
       "        vertical-align: middle;\n",
       "    }\n",
       "\n",
       "    .dataframe tbody tr th {\n",
       "        vertical-align: top;\n",
       "    }\n",
       "\n",
       "    .dataframe thead th {\n",
       "        text-align: right;\n",
       "    }\n",
       "</style>\n",
       "<table border=\"1\" class=\"dataframe\">\n",
       "  <thead>\n",
       "    <tr style=\"text-align: right;\">\n",
       "      <th></th>\n",
       "      <th>test1</th>\n",
       "      <th>test2</th>\n",
       "      <th>accepted</th>\n",
       "    </tr>\n",
       "  </thead>\n",
       "  <tbody>\n",
       "    <tr>\n",
       "      <th>0</th>\n",
       "      <td>0.051267</td>\n",
       "      <td>0.69956</td>\n",
       "      <td>1</td>\n",
       "    </tr>\n",
       "    <tr>\n",
       "      <th>1</th>\n",
       "      <td>-0.092742</td>\n",
       "      <td>0.68494</td>\n",
       "      <td>1</td>\n",
       "    </tr>\n",
       "    <tr>\n",
       "      <th>2</th>\n",
       "      <td>-0.213710</td>\n",
       "      <td>0.69225</td>\n",
       "      <td>1</td>\n",
       "    </tr>\n",
       "    <tr>\n",
       "      <th>3</th>\n",
       "      <td>-0.375000</td>\n",
       "      <td>0.50219</td>\n",
       "      <td>1</td>\n",
       "    </tr>\n",
       "    <tr>\n",
       "      <th>4</th>\n",
       "      <td>-0.513250</td>\n",
       "      <td>0.46564</td>\n",
       "      <td>1</td>\n",
       "    </tr>\n",
       "  </tbody>\n",
       "</table>\n",
       "</div>"
      ],
      "text/plain": [
       "      test1    test2  accepted\n",
       "0  0.051267  0.69956         1\n",
       "1 -0.092742  0.68494         1\n",
       "2 -0.213710  0.69225         1\n",
       "3 -0.375000  0.50219         1\n",
       "4 -0.513250  0.46564         1"
      ]
     },
     "execution_count": 421,
     "metadata": {},
     "output_type": "execute_result"
    }
   ],
   "source": [
    "data = pd.read_csv('ex2data2.txt',header = None,names = ['test1','test2','accepted'])\n",
    "data.head()"
   ]
  },
  {
   "cell_type": "markdown",
   "metadata": {},
   "source": [
    "原始散点图"
   ]
  },
  {
   "cell_type": "code",
   "execution_count": 422,
   "metadata": {},
   "outputs": [
    {
     "data": {
      "text/plain": [
       "Text(0, 0.5, 'test2 score')"
      ]
     },
     "execution_count": 422,
     "metadata": {},
     "output_type": "execute_result"
    },
    {
     "data": {
      "image/png": "[encoded data removed]",
      "text/plain": [
       "<Figure size 864x576 with 1 Axes>"
      ]
     },
     "metadata": {
      "needs_background": "light"
     },
     "output_type": "display_data"
    }
   ],
   "source": [
    "positive = data[data.accepted==1]\n",
    "negative = data[data.accepted==0]\n",
    "\n",
    "plt.subplots(figsize = (12,8))\n",
    "plt.scatter(positive['test1'],positive['test2'],s = 50,color = 'blue',marker = 'o',label = 'Accepted')\n",
    "plt.scatter(negative['test1'],negative['test2'],s = 50,color = 'red',marker = 'x',label = 'Not Accepted')\n",
    "plt.legend()\n",
    "plt.xlabel('test1 score')\n",
    "plt.ylabel('test2 score')\n"
   ]
  },
  {
   "cell_type": "markdown",
   "metadata": {},
   "source": [
    "创建一组多项式特征"
   ]
  },
  {
   "cell_type": "code",
   "execution_count": 423,
   "metadata": {},
   "outputs": [
    {
     "data": {
      "text/html": [
       "<div>\n",
       "<style scoped>\n",
       "    .dataframe tbody tr th:only-of-type {\n",
       "        vertical-align: middle;\n",
       "    }\n",
       "\n",
       "    .dataframe tbody tr th {\n",
       "        vertical-align: top;\n",
       "    }\n",
       "\n",
       "    .dataframe thead th {\n",
       "        text-align: right;\n",
       "    }\n",
       "</style>\n",
       "<table border=\"1\" class=\"dataframe\">\n",
       "  <thead>\n",
       "    <tr style=\"text-align: right;\">\n",
       "      <th></th>\n",
       "      <th>accepted</th>\n",
       "      <th>ones</th>\n",
       "      <th>F10</th>\n",
       "      <th>F11</th>\n",
       "      <th>F20</th>\n",
       "      <th>F21</th>\n",
       "      <th>F22</th>\n",
       "      <th>F30</th>\n",
       "      <th>F31</th>\n",
       "      <th>F32</th>\n",
       "      <th>F33</th>\n",
       "      <th>F40</th>\n",
       "      <th>F41</th>\n",
       "      <th>F42</th>\n",
       "      <th>F43</th>\n",
       "      <th>F44</th>\n",
       "    </tr>\n",
       "  </thead>\n",
       "  <tbody>\n",
       "    <tr>\n",
       "      <th>0</th>\n",
       "      <td>1</td>\n",
       "      <td>1</td>\n",
       "      <td>0.051267</td>\n",
       "      <td>0.69956</td>\n",
       "      <td>0.002628</td>\n",
       "      <td>0.035864</td>\n",
       "      <td>0.489384</td>\n",
       "      <td>0.000135</td>\n",
       "      <td>0.001839</td>\n",
       "      <td>0.025089</td>\n",
       "      <td>0.342354</td>\n",
       "      <td>0.000007</td>\n",
       "      <td>0.000094</td>\n",
       "      <td>0.001286</td>\n",
       "      <td>0.017551</td>\n",
       "      <td>0.239497</td>\n",
       "    </tr>\n",
       "    <tr>\n",
       "      <th>1</th>\n",
       "      <td>1</td>\n",
       "      <td>1</td>\n",
       "      <td>-0.092742</td>\n",
       "      <td>0.68494</td>\n",
       "      <td>0.008601</td>\n",
       "      <td>-0.063523</td>\n",
       "      <td>0.469143</td>\n",
       "      <td>-0.000798</td>\n",
       "      <td>0.005891</td>\n",
       "      <td>-0.043509</td>\n",
       "      <td>0.321335</td>\n",
       "      <td>0.000074</td>\n",
       "      <td>-0.000546</td>\n",
       "      <td>0.004035</td>\n",
       "      <td>-0.029801</td>\n",
       "      <td>0.220095</td>\n",
       "    </tr>\n",
       "    <tr>\n",
       "      <th>2</th>\n",
       "      <td>1</td>\n",
       "      <td>1</td>\n",
       "      <td>-0.213710</td>\n",
       "      <td>0.69225</td>\n",
       "      <td>0.045672</td>\n",
       "      <td>-0.147941</td>\n",
       "      <td>0.479210</td>\n",
       "      <td>-0.009761</td>\n",
       "      <td>0.031616</td>\n",
       "      <td>-0.102412</td>\n",
       "      <td>0.331733</td>\n",
       "      <td>0.002086</td>\n",
       "      <td>-0.006757</td>\n",
       "      <td>0.021886</td>\n",
       "      <td>-0.070895</td>\n",
       "      <td>0.229642</td>\n",
       "    </tr>\n",
       "    <tr>\n",
       "      <th>3</th>\n",
       "      <td>1</td>\n",
       "      <td>1</td>\n",
       "      <td>-0.375000</td>\n",
       "      <td>0.50219</td>\n",
       "      <td>0.140625</td>\n",
       "      <td>-0.188321</td>\n",
       "      <td>0.252195</td>\n",
       "      <td>-0.052734</td>\n",
       "      <td>0.070620</td>\n",
       "      <td>-0.094573</td>\n",
       "      <td>0.126650</td>\n",
       "      <td>0.019775</td>\n",
       "      <td>-0.026483</td>\n",
       "      <td>0.035465</td>\n",
       "      <td>-0.047494</td>\n",
       "      <td>0.063602</td>\n",
       "    </tr>\n",
       "    <tr>\n",
       "      <th>4</th>\n",
       "      <td>1</td>\n",
       "      <td>1</td>\n",
       "      <td>-0.513250</td>\n",
       "      <td>0.46564</td>\n",
       "      <td>0.263426</td>\n",
       "      <td>-0.238990</td>\n",
       "      <td>0.216821</td>\n",
       "      <td>-0.135203</td>\n",
       "      <td>0.122661</td>\n",
       "      <td>-0.111283</td>\n",
       "      <td>0.100960</td>\n",
       "      <td>0.069393</td>\n",
       "      <td>-0.062956</td>\n",
       "      <td>0.057116</td>\n",
       "      <td>-0.051818</td>\n",
       "      <td>0.047011</td>\n",
       "    </tr>\n",
       "  </tbody>\n",
       "</table>\n",
       "</div>"
      ],
      "text/plain": [
       "   accepted  ones       F10      F11       F20       F21       F22       F30  \\\n",
       "0         1     1  0.051267  0.69956  0.002628  0.035864  0.489384  0.000135   \n",
       "1         1     1 -0.092742  0.68494  0.008601 -0.063523  0.469143 -0.000798   \n",
       "2         1     1 -0.213710  0.69225  0.045672 -0.147941  0.479210 -0.009761   \n",
       "3         1     1 -0.375000  0.50219  0.140625 -0.188321  0.252195 -0.052734   \n",
       "4         1     1 -0.513250  0.46564  0.263426 -0.238990  0.216821 -0.135203   \n",
       "\n",
       "        F31       F32       F33       F40       F41       F42       F43  \\\n",
       "0  0.001839  0.025089  0.342354  0.000007  0.000094  0.001286  0.017551   \n",
       "1  0.005891 -0.043509  0.321335  0.000074 -0.000546  0.004035 -0.029801   \n",
       "2  0.031616 -0.102412  0.331733  0.002086 -0.006757  0.021886 -0.070895   \n",
       "3  0.070620 -0.094573  0.126650  0.019775 -0.026483  0.035465 -0.047494   \n",
       "4  0.122661 -0.111283  0.100960  0.069393 -0.062956  0.057116 -0.051818   \n",
       "\n",
       "        F44  \n",
       "0  0.239497  \n",
       "1  0.220095  \n",
       "2  0.229642  \n",
       "3  0.063602  \n",
       "4  0.047011  "
      ]
     },
     "execution_count": 423,
     "metadata": {},
     "output_type": "execute_result"
    }
   ],
   "source": [
    "x1 = data['test1']\n",
    "x2 = data['test2']\n",
    "\n",
    "data.insert(3,'ones',1)\n",
    "\n",
    "for i in range(1,5):\n",
    "    for j in range(0,i+1):\n",
    "        data['F'+str(i)+str(j)] = np.power(x1,i-j)*np.power(x2,j)\n",
    "\n",
    "data.drop('test1',axis = 1,inplace=True)\n",
    "data.drop('test2',axis = 1,inplace=True)\n",
    "\n",
    "data.head()"
   ]
  },
  {
   "cell_type": "markdown",
   "metadata": {},
   "source": [
    "方法一:梯度下降法"
   ]
  },
  {
   "cell_type": "code",
   "execution_count": 424,
   "metadata": {},
   "outputs": [],
   "source": [
    "##定义sigmoid函数\n",
    "def sigmoid(z):\n",
    "    return 1 / (1 + np.exp(-z))"
   ]
  },
  {
   "cell_type": "code",
   "execution_count": 425,
   "metadata": {},
   "outputs": [],
   "source": [
    "#定义cost function代价函数\n",
    "def computecost(theta,X,y,lamda):\n",
    "    theta = np.matrix(theta)\n",
    "    X = np.matrix(X)\n",
    "    y = np.matrix(y)\n",
    "    first = np.multiply(-y,np.log(sigmoid(X*theta.T)))\n",
    "    second = np.multiply((1-y),np.log(1-sigmoid(X*theta.T)))\n",
    "    reg = (lamda/(2*len(y)))*np.sum(np.power(theta[:,1:theta.shape[1]],2))\n",
    "    return (1/len(y))*np.sum(first-second) + reg"
   ]
  },
  {
   "cell_type": "code",
   "execution_count": 426,
   "metadata": {},
   "outputs": [],
   "source": [
    "X = data[['ones','F10','F11','F20','F21','F22','F30','F31','F32','F33','F40','F41','F42','F43','F44']]\n",
    "y = data[['accepted']]"
   ]
  },
  {
   "cell_type": "code",
   "execution_count": 427,
   "metadata": {},
   "outputs": [],
   "source": [
    "#梯度下降\n",
    "def gradientDescent(theta,X,y,lamda):\n",
    "    theta = np.matrix(theta)\n",
    "    X = np.matrix(X)\n",
    "    y = np.matrix(y)\n",
    "    m = len(y)\n",
    "    iter = 1000\n",
    "    alpha = 1\n",
    "    cost = np.zeros(iter)\n",
    "    temp = np.matrix(np.zeros(theta.shape))\n",
    "\n",
    "    for i in range(iter):\n",
    "        y_predicted = sigmoid(X*theta.T)\n",
    "        temp[0,0] = theta[0,0]-alpha*(1/m)*sum(y_predicted-y)\n",
    "        for j in range(1,15):\n",
    "            temp[0,j] = theta[0,j]*(1-alpha*lamda/m)-alpha*(1/m)*sum(np.multiply(X[:,j],(y_predicted-y)))\n",
    "        theta = temp\n",
    "        cost[i] = computecost(theta,X,y,lamda)\n",
    "        #print(f\"cost is:{cost[i]}\")\n",
    "    return theta,cost"
   ]
  },
  {
   "cell_type": "code",
   "execution_count": 428,
   "metadata": {},
   "outputs": [],
   "source": [
    "theta = np.zeros(15)\n",
    "X = np.array(X.values)\n",
    "y = np.array(y.values)\n",
    "lamda = 1\n",
    "theta,cost = gradientDescent(theta,X,y,lamda)"
   ]
  },
  {
   "cell_type": "code",
   "execution_count": 429,
   "metadata": {},
   "outputs": [
    {
     "data": {
      "text/plain": [
       "matrix([[ 1.28774208,  0.56744213,  1.1184087 , -2.20671391, -0.92834607,\n",
       "         -1.62520867, -0.03661411, -0.36907088, -0.33634424, -0.47661336,\n",
       "         -1.67874467, -0.0598562 , -0.62664523, -0.26314793, -1.5485206 ]])"
      ]
     },
     "execution_count": 429,
     "metadata": {},
     "output_type": "execute_result"
    }
   ],
   "source": [
    "theta1 = theta\n",
    "theta1"
   ]
  },
  {
   "cell_type": "code",
   "execution_count": 430,
   "metadata": {},
   "outputs": [
    {
     "data": {
      "text/plain": [
       "array([0.68487984, 0.6781818 , 0.672369  , 0.66711851, 0.66227022,\n",
       "       0.65773829, 0.6534718 , 0.64943702, 0.6456093 , 0.64196931,\n",
       "       0.63850107, 0.63519106, 0.63202755, 0.62900027, 0.62610017,\n",
       "       0.62331917, 0.62065006, 0.61808634, 0.61562215, 0.61325215,\n",
       "       0.61097148, 0.60877566, 0.6066606 , 0.6046225 , 0.60265784,\n",
       "       0.60076333, 0.59893593, 0.59717277, 0.59547115, 0.59382855,\n",
       "       0.59224258, 0.59071097, 0.5892316 , 0.58780242, 0.58642152,\n",
       "       0.58508706, 0.58379729, 0.58255054, 0.58134522, 0.58017981,\n",
       "       0.57905286, 0.57796296, 0.5769088 , 0.57588908, 0.57490259,\n",
       "       0.57394814, 0.57302461, 0.57213091, 0.571266  , 0.57042888,\n",
       "       0.56961859, 0.56883421, 0.56807483, 0.56733961, 0.56662773,\n",
       "       0.56593838, 0.5652708 , 0.56462427, 0.56399807, 0.56339151,\n",
       "       0.56280395, 0.56223474, 0.56168328, 0.56114897, 0.56063126,\n",
       "       0.56012959, 0.55964343, 0.55917228, 0.55871564, 0.55827305,\n",
       "       0.55784403, 0.55742816, 0.55702501, 0.55663416, 0.55625522,\n",
       "       0.55588781, 0.55553155, 0.55518609, 0.55485108, 0.55452619,\n",
       "       0.5542111 , 0.5539055 , 0.55360909, 0.55332157, 0.55304267,\n",
       "       0.55277211, 0.55250964, 0.552255  , 0.55200794, 0.55176823,\n",
       "       0.55153564, 0.55130994, 0.55109093, 0.5508784 , 0.55067214,\n",
       "       0.55047197, 0.55027769, 0.55008913, 0.54990611, 0.54972845,\n",
       "       0.549556  , 0.5493886 , 0.54922608, 0.54906832, 0.54891515,\n",
       "       0.54876644, 0.54862205, 0.54848186, 0.54834574, 0.54821356,\n",
       "       0.54808521, 0.54796057, 0.54783953, 0.54772198, 0.54760782,\n",
       "       0.54749694, 0.54738926, 0.54728466, 0.54718307, 0.54708439,\n",
       "       0.54698854, 0.54689543, 0.54680497, 0.54671711, 0.54663174,\n",
       "       0.54654881, 0.54646824, 0.54638997, 0.54631391, 0.54624002,\n",
       "       0.54616822, 0.54609845, 0.54603066, 0.54596479, 0.54590078,\n",
       "       0.54583857, 0.54577812, 0.54571937, 0.54566228, 0.5456068 ,\n",
       "       0.54555287, 0.54550046, 0.54544952, 0.5454    , 0.54535188,\n",
       "       0.5453051 , 0.54525963, 0.54521543, 0.54517247, 0.5451307 ,\n",
       "       0.5450901 , 0.54505063, 0.54501226, 0.54497496, 0.54493869,\n",
       "       0.54490343, 0.54486915, 0.54483582, 0.54480341, 0.5447719 ,\n",
       "       0.54474127, 0.54471148, 0.54468251, 0.54465435, 0.54462696,\n",
       "       0.54460032, 0.54457442, 0.54454924, 0.54452474, 0.54450092,\n",
       "       0.54447776, 0.54445523, 0.54443332, 0.54441201, 0.54439128,\n",
       "       0.54437113, 0.54435152, 0.54433245, 0.5443139 , 0.54429586,\n",
       "       0.54427831, 0.54426124, 0.54424463, 0.54422848, 0.54421276,\n",
       "       0.54419748, 0.54418261, 0.54416814, 0.54415407, 0.54414038,\n",
       "       0.54412706, 0.5441141 , 0.54410149, 0.54408922, 0.54407729,\n",
       "       0.54406568, 0.54405438, 0.54404339, 0.54403269, 0.54402228,\n",
       "       0.54401216, 0.5440023 , 0.54399271, 0.54398338, 0.5439743 ,\n",
       "       0.54396547, 0.54395687, 0.5439485 , 0.54394036, 0.54393243,\n",
       "       0.54392472, 0.54391721, 0.54390991, 0.54390279, 0.54389587,\n",
       "       0.54388914, 0.54388258, 0.5438762 , 0.54386999, 0.54386395,\n",
       "       0.54385806, 0.54385234, 0.54384676, 0.54384134, 0.54383605,\n",
       "       0.54383091, 0.5438259 , 0.54382103, 0.54381629, 0.54381167,\n",
       "       0.54380717, 0.5438028 , 0.54379853, 0.54379439, 0.54379035,\n",
       "       0.54378641, 0.54378258, 0.54377886, 0.54377523, 0.54377169,\n",
       "       0.54376825, 0.5437649 , 0.54376164, 0.54375846, 0.54375537,\n",
       "       0.54375235, 0.54374942, 0.54374656, 0.54374378, 0.54374107,\n",
       "       0.54373844, 0.54373587, 0.54373336, 0.54373093, 0.54372855,\n",
       "       0.54372624, 0.54372399, 0.5437218 , 0.54371966, 0.54371758,\n",
       "       0.54371556, 0.54371358, 0.54371166, 0.54370979, 0.54370796,\n",
       "       0.54370619, 0.54370446, 0.54370277, 0.54370113, 0.54369953,\n",
       "       0.54369797, 0.54369645, 0.54369497, 0.54369353, 0.54369213,\n",
       "       0.54369076, 0.54368943, 0.54368813, 0.54368686, 0.54368563,\n",
       "       0.54368443, 0.54368326, 0.54368212, 0.54368101, 0.54367993,\n",
       "       0.54367887, 0.54367784, 0.54367684, 0.54367587, 0.54367492,\n",
       "       0.54367399, 0.54367308, 0.5436722 , 0.54367135, 0.54367051,\n",
       "       0.54366969, 0.5436689 , 0.54366813, 0.54366737, 0.54366664,\n",
       "       0.54366592, 0.54366522, 0.54366454, 0.54366388, 0.54366323,\n",
       "       0.5436626 , 0.54366198, 0.54366138, 0.5436608 , 0.54366023,\n",
       "       0.54365967, 0.54365913, 0.5436586 , 0.54365809, 0.54365759,\n",
       "       0.5436571 , 0.54365662, 0.54365616, 0.5436557 , 0.54365526,\n",
       "       0.54365483, 0.54365441, 0.543654  , 0.5436536 , 0.54365321,\n",
       "       0.54365283, 0.54365246, 0.5436521 , 0.54365174, 0.5436514 ,\n",
       "       0.54365106, 0.54365074, 0.54365042, 0.54365011, 0.5436498 ,\n",
       "       0.54364951, 0.54364922, 0.54364894, 0.54364866, 0.54364839,\n",
       "       0.54364813, 0.54364788, 0.54364763, 0.54364739, 0.54364715,\n",
       "       0.54364692, 0.54364669, 0.54364647, 0.54364626, 0.54364605,\n",
       "       0.54364585, 0.54364565, 0.54364545, 0.54364526, 0.54364508,\n",
       "       0.5436449 , 0.54364472, 0.54364455, 0.54364438, 0.54364422,\n",
       "       0.54364406, 0.5436439 , 0.54364375, 0.5436436 , 0.54364346,\n",
       "       0.54364332, 0.54364318, 0.54364304, 0.54364291, 0.54364278,\n",
       "       0.54364266, 0.54364254, 0.54364242, 0.5436423 , 0.54364219,\n",
       "       0.54364208, 0.54364197, 0.54364186, 0.54364176, 0.54364166,\n",
       "       0.54364156, 0.54364146, 0.54364137, 0.54364128, 0.54364119,\n",
       "       0.5436411 , 0.54364101, 0.54364093, 0.54364085, 0.54364077,\n",
       "       0.54364069, 0.54364062, 0.54364054, 0.54364047, 0.5436404 ,\n",
       "       0.54364033, 0.54364026, 0.5436402 , 0.54364013, 0.54364007,\n",
       "       0.54364001, 0.54363995, 0.54363989, 0.54363984, 0.54363978,\n",
       "       0.54363973, 0.54363967, 0.54363962, 0.54363957, 0.54363952,\n",
       "       0.54363947, 0.54363942, 0.54363938, 0.54363933, 0.54363929,\n",
       "       0.54363925, 0.5436392 , 0.54363916, 0.54363912, 0.54363908,\n",
       "       0.54363904, 0.54363901, 0.54363897, 0.54363893, 0.5436389 ,\n",
       "       0.54363887, 0.54363883, 0.5436388 , 0.54363877, 0.54363874,\n",
       "       0.54363871, 0.54363868, 0.54363865, 0.54363862, 0.54363859,\n",
       "       0.54363856, 0.54363854, 0.54363851, 0.54363849, 0.54363846,\n",
       "       0.54363844, 0.54363841, 0.54363839, 0.54363837, 0.54363834,\n",
       "       0.54363832, 0.5436383 , 0.54363828, 0.54363826, 0.54363824,\n",
       "       0.54363822, 0.5436382 , 0.54363818, 0.54363817, 0.54363815,\n",
       "       0.54363813, 0.54363811, 0.5436381 , 0.54363808, 0.54363806,\n",
       "       0.54363805, 0.54363803, 0.54363802, 0.543638  , 0.54363799,\n",
       "       0.54363798, 0.54363796, 0.54363795, 0.54363794, 0.54363792,\n",
       "       0.54363791, 0.5436379 , 0.54363789, 0.54363788, 0.54363786,\n",
       "       0.54363785, 0.54363784, 0.54363783, 0.54363782, 0.54363781,\n",
       "       0.5436378 , 0.54363779, 0.54363778, 0.54363777, 0.54363776,\n",
       "       0.54363775, 0.54363775, 0.54363774, 0.54363773, 0.54363772,\n",
       "       0.54363771, 0.5436377 , 0.5436377 , 0.54363769, 0.54363768,\n",
       "       0.54363767, 0.54363767, 0.54363766, 0.54363765, 0.54363765,\n",
       "       0.54363764, 0.54363763, 0.54363763, 0.54363762, 0.54363762,\n",
       "       0.54363761, 0.5436376 , 0.5436376 , 0.54363759, 0.54363759,\n",
       "       0.54363758, 0.54363758, 0.54363757, 0.54363757, 0.54363756,\n",
       "       0.54363756, 0.54363755, 0.54363755, 0.54363755, 0.54363754,\n",
       "       0.54363754, 0.54363753, 0.54363753, 0.54363752, 0.54363752,\n",
       "       0.54363752, 0.54363751, 0.54363751, 0.54363751, 0.5436375 ,\n",
       "       0.5436375 , 0.5436375 , 0.54363749, 0.54363749, 0.54363749,\n",
       "       0.54363748, 0.54363748, 0.54363748, 0.54363747, 0.54363747,\n",
       "       0.54363747, 0.54363747, 0.54363746, 0.54363746, 0.54363746,\n",
       "       0.54363745, 0.54363745, 0.54363745, 0.54363745, 0.54363745,\n",
       "       0.54363744, 0.54363744, 0.54363744, 0.54363744, 0.54363743,\n",
       "       0.54363743, 0.54363743, 0.54363743, 0.54363743, 0.54363742,\n",
       "       0.54363742, 0.54363742, 0.54363742, 0.54363742, 0.54363742,\n",
       "       0.54363741, 0.54363741, 0.54363741, 0.54363741, 0.54363741,\n",
       "       0.54363741, 0.5436374 , 0.5436374 , 0.5436374 , 0.5436374 ,\n",
       "       0.5436374 , 0.5436374 , 0.5436374 , 0.54363739, 0.54363739,\n",
       "       0.54363739, 0.54363739, 0.54363739, 0.54363739, 0.54363739,\n",
       "       0.54363739, 0.54363739, 0.54363738, 0.54363738, 0.54363738,\n",
       "       0.54363738, 0.54363738, 0.54363738, 0.54363738, 0.54363738,\n",
       "       0.54363738, 0.54363738, 0.54363737, 0.54363737, 0.54363737,\n",
       "       0.54363737, 0.54363737, 0.54363737, 0.54363737, 0.54363737,\n",
       "       0.54363737, 0.54363737, 0.54363737, 0.54363737, 0.54363737,\n",
       "       0.54363736, 0.54363736, 0.54363736, 0.54363736, 0.54363736,\n",
       "       0.54363736, 0.54363736, 0.54363736, 0.54363736, 0.54363736,\n",
       "       0.54363736, 0.54363736, 0.54363736, 0.54363736, 0.54363736,\n",
       "       0.54363736, 0.54363736, 0.54363735, 0.54363735, 0.54363735,\n",
       "       0.54363735, 0.54363735, 0.54363735, 0.54363735, 0.54363735,\n",
       "       0.54363735, 0.54363735, 0.54363735, 0.54363735, 0.54363735,\n",
       "       0.54363735, 0.54363735, 0.54363735, 0.54363735, 0.54363735,\n",
       "       0.54363735, 0.54363735, 0.54363735, 0.54363735, 0.54363735,\n",
       "       0.54363735, 0.54363735, 0.54363735, 0.54363734, 0.54363734,\n",
       "       0.54363734, 0.54363734, 0.54363734, 0.54363734, 0.54363734,\n",
       "       0.54363734, 0.54363734, 0.54363734, 0.54363734, 0.54363734,\n",
       "       0.54363734, 0.54363734, 0.54363734, 0.54363734, 0.54363734,\n",
       "       0.54363734, 0.54363734, 0.54363734, 0.54363734, 0.54363734,\n",
       "       0.54363734, 0.54363734, 0.54363734, 0.54363734, 0.54363734,\n",
       "       0.54363734, 0.54363734, 0.54363734, 0.54363734, 0.54363734,\n",
       "       0.54363734, 0.54363734, 0.54363734, 0.54363734, 0.54363734,\n",
       "       0.54363734, 0.54363734, 0.54363734, 0.54363734, 0.54363734,\n",
       "       0.54363734, 0.54363734, 0.54363734, 0.54363734, 0.54363734,\n",
       "       0.54363734, 0.54363734, 0.54363734, 0.54363734, 0.54363734,\n",
       "       0.54363734, 0.54363734, 0.54363733, 0.54363733, 0.54363733,\n",
       "       0.54363733, 0.54363733, 0.54363733, 0.54363733, 0.54363733,\n",
       "       0.54363733, 0.54363733, 0.54363733, 0.54363733, 0.54363733,\n",
       "       0.54363733, 0.54363733, 0.54363733, 0.54363733, 0.54363733,\n",
       "       0.54363733, 0.54363733, 0.54363733, 0.54363733, 0.54363733,\n",
       "       0.54363733, 0.54363733, 0.54363733, 0.54363733, 0.54363733,\n",
       "       0.54363733, 0.54363733, 0.54363733, 0.54363733, 0.54363733,\n",
       "       0.54363733, 0.54363733, 0.54363733, 0.54363733, 0.54363733,\n",
       "       0.54363733, 0.54363733, 0.54363733, 0.54363733, 0.54363733,\n",
       "       0.54363733, 0.54363733, 0.54363733, 0.54363733, 0.54363733,\n",
       "       0.54363733, 0.54363733, 0.54363733, 0.54363733, 0.54363733,\n",
       "       0.54363733, 0.54363733, 0.54363733, 0.54363733, 0.54363733,\n",
       "       0.54363733, 0.54363733, 0.54363733, 0.54363733, 0.54363733,\n",
       "       0.54363733, 0.54363733, 0.54363733, 0.54363733, 0.54363733,\n",
       "       0.54363733, 0.54363733, 0.54363733, 0.54363733, 0.54363733,\n",
       "       0.54363733, 0.54363733, 0.54363733, 0.54363733, 0.54363733,\n",
       "       0.54363733, 0.54363733, 0.54363733, 0.54363733, 0.54363733,\n",
       "       0.54363733, 0.54363733, 0.54363733, 0.54363733, 0.54363733,\n",
       "       0.54363733, 0.54363733, 0.54363733, 0.54363733, 0.54363733,\n",
       "       0.54363733, 0.54363733, 0.54363733, 0.54363733, 0.54363733,\n",
       "       0.54363733, 0.54363733, 0.54363733, 0.54363733, 0.54363733,\n",
       "       0.54363733, 0.54363733, 0.54363733, 0.54363733, 0.54363733,\n",
       "       0.54363733, 0.54363733, 0.54363733, 0.54363733, 0.54363733,\n",
       "       0.54363733, 0.54363733, 0.54363733, 0.54363733, 0.54363733,\n",
       "       0.54363733, 0.54363733, 0.54363733, 0.54363733, 0.54363733,\n",
       "       0.54363733, 0.54363733, 0.54363733, 0.54363733, 0.54363733,\n",
       "       0.54363733, 0.54363733, 0.54363733, 0.54363733, 0.54363733,\n",
       "       0.54363733, 0.54363733, 0.54363733, 0.54363733, 0.54363733,\n",
       "       0.54363733, 0.54363733, 0.54363733, 0.54363733, 0.54363733,\n",
       "       0.54363733, 0.54363733, 0.54363733, 0.54363733, 0.54363733,\n",
       "       0.54363733, 0.54363733, 0.54363733, 0.54363733, 0.54363733,\n",
       "       0.54363733, 0.54363733, 0.54363733, 0.54363733, 0.54363733,\n",
       "       0.54363733, 0.54363733, 0.54363733, 0.54363733, 0.54363733,\n",
       "       0.54363733, 0.54363733, 0.54363733, 0.54363733, 0.54363733,\n",
       "       0.54363733, 0.54363733, 0.54363733, 0.54363733, 0.54363733,\n",
       "       0.54363733, 0.54363733, 0.54363733, 0.54363733, 0.54363733,\n",
       "       0.54363733, 0.54363733, 0.54363733, 0.54363733, 0.54363733,\n",
       "       0.54363733, 0.54363733, 0.54363733, 0.54363733, 0.54363733,\n",
       "       0.54363733, 0.54363733, 0.54363733, 0.54363733, 0.54363733,\n",
       "       0.54363733, 0.54363733, 0.54363733, 0.54363733, 0.54363733,\n",
       "       0.54363733, 0.54363733, 0.54363733, 0.54363733, 0.54363733,\n",
       "       0.54363733, 0.54363733, 0.54363733, 0.54363733, 0.54363733,\n",
       "       0.54363733, 0.54363733, 0.54363733, 0.54363733, 0.54363733,\n",
       "       0.54363733, 0.54363733, 0.54363733, 0.54363733, 0.54363733,\n",
       "       0.54363733, 0.54363733, 0.54363733, 0.54363733, 0.54363733,\n",
       "       0.54363733, 0.54363733, 0.54363733, 0.54363733, 0.54363733,\n",
       "       0.54363733, 0.54363733, 0.54363733, 0.54363733, 0.54363733,\n",
       "       0.54363733, 0.54363733, 0.54363733, 0.54363733, 0.54363733,\n",
       "       0.54363733, 0.54363733, 0.54363733, 0.54363733, 0.54363733,\n",
       "       0.54363733, 0.54363733, 0.54363733, 0.54363733, 0.54363733,\n",
       "       0.54363733, 0.54363733, 0.54363733, 0.54363733, 0.54363733,\n",
       "       0.54363733, 0.54363733, 0.54363733, 0.54363733, 0.54363733,\n",
       "       0.54363733, 0.54363733, 0.54363733, 0.54363733, 0.54363733,\n",
       "       0.54363733, 0.54363733, 0.54363733, 0.54363733, 0.54363733,\n",
       "       0.54363733, 0.54363733, 0.54363733, 0.54363733, 0.54363733,\n",
       "       0.54363733, 0.54363733, 0.54363733, 0.54363733, 0.54363733,\n",
       "       0.54363733, 0.54363733, 0.54363733, 0.54363733, 0.54363733,\n",
       "       0.54363733, 0.54363733, 0.54363733, 0.54363733, 0.54363733,\n",
       "       0.54363733, 0.54363733, 0.54363733, 0.54363733, 0.54363733])"
      ]
     },
     "execution_count": 430,
     "metadata": {},
     "output_type": "execute_result"
    }
   ],
   "source": [
    "cost"
   ]
  },
  {
   "cell_type": "markdown",
   "metadata": {},
   "source": [
    "画出代价函数变化曲线"
   ]
  },
  {
   "cell_type": "code",
   "execution_count": 446,
   "metadata": {},
   "outputs": [
    {
     "data": {
      "text/plain": [
       "[<matplotlib.lines.Line2D at 0x2003642ebc0>]"
      ]
     },
     "execution_count": 446,
     "metadata": {},
     "output_type": "execute_result"
    },
    {
     "data": {
      "image/png": "[encoded data removed]",
      "text/plain": [
       "<Figure size 432x288 with 1 Axes>"
      ]
     },
     "metadata": {
      "needs_background": "light"
     },
     "output_type": "display_data"
    }
   ],
   "source": [
    "plt.plot(cost,'r',linewidth=2)"
   ]
  },
  {
   "cell_type": "markdown",
   "metadata": {},
   "source": [
    "画出决策边界"
   ]
  },
  {
   "cell_type": "code",
   "execution_count": 431,
   "metadata": {},
   "outputs": [],
   "source": [
    "#定义计算 theta*X.T 函数\n",
    "def hfunc(theta,x,y):\n",
    "    X = np.array([1,x,y,x**2,x*y,y**2,x**3,(x**2)*y,x*(y**2),y**3,x**4,(x**3)*y,(x**2)*(y**2),x*(y**3),y**4])\n",
    "    X = np.matrix(X)\n",
    "    temp = theta*X.T       \n",
    "\n",
    "    return temp"
   ]
  },
  {
   "cell_type": "code",
   "execution_count": 432,
   "metadata": {},
   "outputs": [
    {
     "data": {
      "text/plain": [
       "[-0.6496496496496497,\n",
       " -0.6496496496496497,\n",
       " -0.6496496496496497,\n",
       " -0.6496496496496497,\n",
       " -0.6496496496496497,\n",
       " -0.6471471471471472,\n",
       " -0.6471471471471472,\n",
       " -0.6471471471471472,\n",
       " -0.6471471471471472,\n",
       " -0.6446446446446447,\n",
       " -0.6446446446446447,\n",
       " -0.6446446446446447,\n",
       " -0.6421421421421422,\n",
       " -0.6421421421421422,\n",
       " -0.6396396396396397,\n",
       " -0.6371371371371372,\n",
       " -0.6371371371371372,\n",
       " -0.6346346346346347,\n",
       " -0.6296296296296297,\n",
       " -0.6271271271271271,\n",
       " -0.6221221221221221,\n",
       " -0.6196196196196196,\n",
       " -0.6171171171171171,\n",
       " -0.6171171171171171,\n",
       " -0.6146146146146146,\n",
       " -0.6121121121121121,\n",
       " -0.6096096096096096,\n",
       " -0.6071071071071071,\n",
       " -0.6046046046046046,\n",
       " -0.6046046046046046,\n",
       " -0.6021021021021021,\n",
       " -0.5995995995995996,\n",
       " -0.597097097097097,\n",
       " -0.597097097097097,\n",
       " -0.5945945945945945,\n",
       " -0.5945945945945945,\n",
       " -0.592092092092092,\n",
       " -0.592092092092092,\n",
       " -0.5895895895895895,\n",
       " -0.587087087087087,\n",
       " -0.5845845845845845,\n",
       " -0.5845845845845845,\n",
       " -0.577077077077077,\n",
       " -0.577077077077077,\n",
       " -0.572072072072072,\n",
       " -0.5695695695695695,\n",
       " -0.5645645645645645,\n",
       " -0.557057057057057,\n",
       " -0.5495495495495495,\n",
       " -0.547047047047047,\n",
       " -0.547047047047047,\n",
       " -0.537037037037037,\n",
       " -0.5345345345345345,\n",
       " -0.532032032032032,\n",
       " -0.5295295295295295,\n",
       " -0.527027027027027,\n",
       " -0.5245245245245245,\n",
       " -0.522022022022022,\n",
       " -0.5195195195195195,\n",
       " -0.507007007007007,\n",
       " -0.5045045045045045,\n",
       " -0.5045045045045045,\n",
       " -0.49449449449449445,\n",
       " -0.49199199199199195,\n",
       " -0.48698698698698695,\n",
       " -0.48198198198198194,\n",
       " -0.47447447447447444,\n",
       " -0.47197197197197194,\n",
       " -0.46946946946946944,\n",
       " -0.46446446446446443,\n",
       " -0.46446446446446443,\n",
       " -0.45945945945945943,\n",
       " -0.45695695695695693,\n",
       " -0.4469469469469469,\n",
       " -0.4444444444444444,\n",
       " -0.4394394394394394,\n",
       " -0.4394394394394394,\n",
       " -0.4319319319319319,\n",
       " -0.4244244244244244,\n",
       " -0.4219219219219219,\n",
       " -0.4119119119119119,\n",
       " -0.3993993993993994,\n",
       " -0.3968968968968969,\n",
       " -0.3943943943943944,\n",
       " -0.3718718718718719,\n",
       " -0.36936936936936937,\n",
       " -0.36936936936936937,\n",
       " -0.36686686686686687,\n",
       " -0.36436436436436437,\n",
       " -0.36186186186186187,\n",
       " -0.35935935935935936,\n",
       " -0.35685685685685686,\n",
       " -0.35435435435435436,\n",
       " -0.33183183183183185,\n",
       " -0.32932932932932935,\n",
       " -0.32682682682682684,\n",
       " -0.32432432432432434,\n",
       " -0.31431431431431434,\n",
       " -0.31181181181181183,\n",
       " -0.30930930930930933,\n",
       " -0.30430430430430433,\n",
       " -0.2967967967967968,\n",
       " -0.2942942942942943,\n",
       " -0.2867867867867868,\n",
       " -0.2767767767767768,\n",
       " -0.2667667667667668,\n",
       " -0.2567567567567568,\n",
       " -0.2417417417417418,\n",
       " -0.22922922922922928,\n",
       " -0.22422422422422428,\n",
       " -0.22172172172172178,\n",
       " -0.20920920920920927,\n",
       " -0.20420420420420426,\n",
       " -0.20170170170170176,\n",
       " -0.19169169169169165,\n",
       " -0.18668668668668664,\n",
       " -0.17667667667667664,\n",
       " -0.17417417417417413,\n",
       " -0.1316316316316316,\n",
       " -0.1266266266266266,\n",
       " -0.1216216216216216,\n",
       " -0.1216216216216216,\n",
       " -0.1191191191191191,\n",
       " -0.1166166166166166,\n",
       " -0.1141141141141141,\n",
       " -0.1116116116116116,\n",
       " -0.10910910910910909,\n",
       " -0.10910910910910909,\n",
       " -0.10660660660660659,\n",
       " -0.10410410410410409,\n",
       " -0.10410410410410409,\n",
       " -0.10160160160160159,\n",
       " -0.09909909909909909,\n",
       " -0.09659659659659658,\n",
       " -0.09409409409409408,\n",
       " -0.09159159159159158,\n",
       " -0.09159159159159158,\n",
       " -0.08908908908908908,\n",
       " -0.08658658658658658,\n",
       " -0.08408408408408408,\n",
       " -0.07157157157157157,\n",
       " -0.06406406406406406,\n",
       " -0.03153153153153154,\n",
       " -0.019019019019019034,\n",
       " -0.01151151151151153,\n",
       " -0.0015015015015015232,\n",
       " -0.0015015015015015232,\n",
       " 0.006006006006006093,\n",
       " 0.0160160160160161,\n",
       " 0.023523523523523604,\n",
       " 0.026026026026026106,\n",
       " 0.03603603603603611,\n",
       " 0.04354354354354362,\n",
       " 0.04854854854854862,\n",
       " 0.05855855855855863,\n",
       " 0.06106106106106113,\n",
       " 0.07107107107107113,\n",
       " 0.07607607607607614,\n",
       " 0.08608608608608614,\n",
       " 0.09109109109109115,\n",
       " 0.09859859859859865,\n",
       " 0.10110110110110115,\n",
       " 0.10360360360360366,\n",
       " 0.11611611611611616,\n",
       " 0.11611611611611616,\n",
       " 0.11861861861861867,\n",
       " 0.12862862862862867,\n",
       " 0.13613613613613618,\n",
       " 0.13863863863863868,\n",
       " 0.1511511511511512,\n",
       " 0.1586586586586587,\n",
       " 0.1611611611611612,\n",
       " 0.1611611611611612,\n",
       " 0.1636636636636637,\n",
       " 0.1711711711711712,\n",
       " 0.1811811811811812,\n",
       " 0.19869869869869872,\n",
       " 0.19869869869869872,\n",
       " 0.20120120120120122,\n",
       " 0.20370370370370372,\n",
       " 0.20620620620620622,\n",
       " 0.20870870870870872,\n",
       " 0.21121121121121122,\n",
       " 0.21371371371371373,\n",
       " 0.21621621621621623,\n",
       " 0.21621621621621623,\n",
       " 0.21871871871871873,\n",
       " 0.22122122122122123,\n",
       " 0.22372372372372373,\n",
       " 0.22372372372372373,\n",
       " 0.22622622622622623,\n",
       " 0.22872872872872874,\n",
       " 0.23123123123123124,\n",
       " 0.23123123123123124,\n",
       " 0.23373373373373374,\n",
       " 0.23623623623623624,\n",
       " 0.23873873873873874,\n",
       " 0.24124124124124124,\n",
       " 0.24374374374374375,\n",
       " 0.24624624624624625,\n",
       " 0.24874874874874875,\n",
       " 0.25375375375375375,\n",
       " 0.26126126126126126,\n",
       " 0.28128128128128127,\n",
       " 0.28378378378378377,\n",
       " 0.2862862862862863,\n",
       " 0.2937937937937938,\n",
       " 0.3063063063063063,\n",
       " 0.3088088088088088,\n",
       " 0.3113113113113113,\n",
       " 0.3238238238238238,\n",
       " 0.3263263263263263,\n",
       " 0.3288288288288288,\n",
       " 0.3338338338338338,\n",
       " 0.3388388388388388,\n",
       " 0.3513513513513513,\n",
       " 0.37387387387387383,\n",
       " 0.37887887887887883,\n",
       " 0.38138138138138133,\n",
       " 0.39139139139139134,\n",
       " 0.39639639639639634,\n",
       " 0.39889889889889885,\n",
       " 0.40640640640640635,\n",
       " 0.40890890890890885,\n",
       " 0.41391391391391386,\n",
       " 0.42142142142142136,\n",
       " 0.42642642642642636,\n",
       " 0.42892892892892887,\n",
       " 0.43643643643643637,\n",
       " 0.43893893893893887,\n",
       " 0.4439439439439439,\n",
       " 0.4439439439439439,\n",
       " 0.4614614614614614,\n",
       " 0.4714714714714714,\n",
       " 0.4789789789789789,\n",
       " 0.4839839839839839,\n",
       " 0.4839839839839839,\n",
       " 0.4964964964964964,\n",
       " 0.4989989989989989,\n",
       " 0.5040040040040039,\n",
       " 0.5115115115115114,\n",
       " 0.5215215215215214,\n",
       " 0.5265265265265264,\n",
       " 0.5290290290290289,\n",
       " 0.5315315315315314,\n",
       " 0.5315315315315314,\n",
       " 0.5340340340340339,\n",
       " 0.5340340340340339,\n",
       " 0.5365365365365364,\n",
       " 0.5390390390390389,\n",
       " 0.5415415415415414,\n",
       " 0.5465465465465464,\n",
       " 0.5490490490490489,\n",
       " 0.5515515515515514,\n",
       " 0.564064064064064,\n",
       " 0.5765765765765765,\n",
       " 0.579079079079079,\n",
       " 0.5815815815815815,\n",
       " 0.584084084084084,\n",
       " 0.5865865865865865,\n",
       " 0.594094094094094,\n",
       " 0.5965965965965965,\n",
       " 0.6041041041041042,\n",
       " 0.6066066066066067,\n",
       " 0.6116116116116117,\n",
       " 0.6116116116116117,\n",
       " 0.6166166166166167,\n",
       " 0.6241241241241242,\n",
       " 0.6266266266266267,\n",
       " 0.6316316316316317,\n",
       " 0.6316316316316317,\n",
       " 0.6391391391391392,\n",
       " 0.6416416416416417,\n",
       " 0.6441441441441442,\n",
       " 0.6466466466466467,\n",
       " 0.6491491491491492,\n",
       " 0.6516516516516517,\n",
       " 0.6541541541541542,\n",
       " 0.6566566566566567,\n",
       " 0.6591591591591592,\n",
       " 0.6641641641641642,\n",
       " 0.6666666666666667,\n",
       " 0.6691691691691692,\n",
       " 0.6716716716716717,\n",
       " 0.6741741741741742,\n",
       " 0.6766766766766767,\n",
       " 0.6791791791791792,\n",
       " 0.6816816816816818,\n",
       " 0.6841841841841843,\n",
       " 0.6891891891891893,\n",
       " 0.6916916916916918,\n",
       " 0.6916916916916918,\n",
       " 0.6941941941941943,\n",
       " 0.6966966966966968,\n",
       " 0.6991991991991993,\n",
       " 0.7017017017017018,\n",
       " 0.7042042042042043,\n",
       " 0.7042042042042043,\n",
       " 0.7067067067067068,\n",
       " 0.7067067067067068,\n",
       " 0.7092092092092093,\n",
       " 0.7092092092092093,\n",
       " 0.7117117117117118,\n",
       " 0.7117117117117118,\n",
       " 0.7142142142142143,\n",
       " 0.7167167167167168,\n",
       " 0.7167167167167168,\n",
       " 0.7192192192192193,\n",
       " 0.7217217217217218,\n",
       " 0.7217217217217218,\n",
       " 0.7242242242242243,\n",
       " 0.7242242242242243,\n",
       " 0.7267267267267268,\n",
       " 0.7267267267267268,\n",
       " 0.7292292292292293,\n",
       " 0.7292292292292293,\n",
       " 0.7292292292292293,\n",
       " 0.7317317317317318,\n",
       " 0.7317317317317318,\n",
       " 0.7317317317317318,\n",
       " 0.7342342342342343,\n",
       " 0.7342342342342343,\n",
       " 0.7342342342342343,\n",
       " 0.7342342342342343,\n",
       " 0.7367367367367368,\n",
       " 0.7367367367367368,\n",
       " 0.7367367367367368,\n",
       " 0.7367367367367368,\n",
       " 0.7367367367367368,\n",
       " 0.7367367367367368,\n",
       " 0.7367367367367368,\n",
       " 0.7367367367367368,\n",
       " 0.7367367367367368]"
      ]
     },
     "execution_count": 432,
     "metadata": {},
     "output_type": "execute_result"
    }
   ],
   "source": [
    "t1 = np.linspace(-1, 1.5, 1000)\n",
    "t2 = np.linspace(-1, 1.5, 1000)\n",
    "xx = []\n",
    "yy = []\n",
    "for i in range(1000):\n",
    "    for j in range(1000):\n",
    "        if np.abs(hfunc(theta1,t1[i],t2[j]))<0.001:\n",
    "            xx.append(t1[i])\n",
    "            yy.append(t2[j])\n",
    "xx\n"
   ]
  },
  {
   "cell_type": "code",
   "execution_count": 433,
   "metadata": {},
   "outputs": [
    {
     "data": {
      "text/plain": [
       "Text(0, 0.5, 'test2 score')"
      ]
     },
     "execution_count": 433,
     "metadata": {},
     "output_type": "execute_result"
    },
    {
     "data": {
      "image/png": "[encoded data removed]",
      "text/plain": [
       "<Figure size 864x576 with 1 Axes>"
      ]
     },
     "metadata": {
      "needs_background": "light"
     },
     "output_type": "display_data"
    }
   ],
   "source": [
    "plt.subplots(figsize = (12,8))\n",
    "plt.scatter(positive['test1'],positive['test2'],s = 50,color = 'blue',marker = 'o',label = 'Accepted')\n",
    "plt.scatter(negative['test1'],negative['test2'],s = 50,color = 'red',marker = 'x',label = 'Not Accepted')\n",
    "plt.scatter(xx,yy,s = 10,color = 'green',label = 'lamda = 1')\n",
    "plt.legend()\n",
    "plt.xlabel('test1 score')\n",
    "plt.ylabel('test2 score')\n"
   ]
  },
  {
   "cell_type": "markdown",
   "metadata": {},
   "source": [
    "画出lamda = 100的决策边界"
   ]
  },
  {
   "cell_type": "code",
   "execution_count": 434,
   "metadata": {},
   "outputs": [
    {
     "data": {
      "text/plain": [
       "Text(0, 0.5, 'test2 score')"
      ]
     },
     "execution_count": 434,
     "metadata": {},
     "output_type": "execute_result"
    },
    {
     "data": {
      "image/png": "[encoded data removed]",
      "text/plain": [
       "<Figure size 864x576 with 1 Axes>"
      ]
     },
     "metadata": {
      "needs_background": "light"
     },
     "output_type": "display_data"
    }
   ],
   "source": [
    "lamda = 100\n",
    "theta2,cost2 = gradientDescent(theta,X,y,lamda)\n",
    "\n",
    "xx2 = []\n",
    "yy2 = []\n",
    "for i in range(1000):\n",
    "    for j in range(1000):\n",
    "        if np.abs(hfunc(theta2,t1[i],t2[j]))<0.001:\n",
    "            xx2.append(t1[i])\n",
    "            yy2.append(t2[j])\n",
    "\n",
    "plt.subplots(figsize = (12,8))\n",
    "plt.scatter(positive['test1'],positive['test2'],s = 50,color = 'blue',marker = 'o',label = 'Accepted')\n",
    "plt.scatter(negative['test1'],negative['test2'],s = 50,color = 'red',marker = 'x',label = 'Not Accepted')\n",
    "plt.scatter(xx2,yy2,s = 10,color = 'green',label = 'lamda = 100')\n",
    "plt.legend()\n",
    "plt.xlabel('test1 score')\n",
    "plt.ylabel('test2 score')\n"
   ]
  },
  {
   "cell_type": "markdown",
   "metadata": {},
   "source": [
    "画出lamda = 0的决策边界"
   ]
  },
  {
   "cell_type": "code",
   "execution_count": 435,
   "metadata": {},
   "outputs": [
    {
     "data": {
      "text/plain": [
       "Text(0, 0.5, 'test2 score')"
      ]
     },
     "execution_count": 435,
     "metadata": {},
     "output_type": "execute_result"
    },
    {
     "data": {
      "image/png": "[encoded data removed]",
      "text/plain": [
       "<Figure size 864x576 with 1 Axes>"
      ]
     },
     "metadata": {
      "needs_background": "light"
     },
     "output_type": "display_data"
    }
   ],
   "source": [
    "lamda = 0\n",
    "theta3,cost3 = gradientDescent(theta,X,y,lamda)\n",
    "\n",
    "xx3 = []\n",
    "yy3 = []\n",
    "for i in range(1000):\n",
    "    for j in range(1000):\n",
    "        if np.abs(hfunc(theta3,t1[i],t2[j]))<0.001:\n",
    "            xx3.append(t1[i])\n",
    "            yy3.append(t2[j])\n",
    "\n",
    "plt.subplots(figsize = (12,8))\n",
    "plt.scatter(positive['test1'],positive['test2'],s = 50,color = 'blue',marker = 'o',label = 'Accepted')\n",
    "plt.scatter(negative['test1'],negative['test2'],s = 50,color = 'red',marker = 'x',label = 'Not Accepted')\n",
    "plt.scatter(xx3,yy3,s = 10,color = 'green',label = 'lamda = 0')\n",
    "plt.legend()\n",
    "plt.xlabel('test1 score')\n",
    "plt.ylabel('test2 score')"
   ]
  },
  {
   "cell_type": "markdown",
   "metadata": {},
   "source": [
    "方法二：sklearn"
   ]
  },
  {
   "cell_type": "code",
   "execution_count": 440,
   "metadata": {},
   "outputs": [
    {
     "name": "stderr",
     "output_type": "stream",
     "text": [
      "D:\\python\\anzhuang\\lib\\site-packages\\sklearn\\utils\\validation.py:993: DataConversionWarning: A column-vector y was passed when a 1d array was expected. Please change the shape of y to (n_samples, ), for example using ravel().\n",
      "  y = column_or_1d(y, warn=True)\n"
     ]
    },
    {
     "data": {
      "text/plain": [
       "0.8333333333333334"
      ]
     },
     "execution_count": 440,
     "metadata": {},
     "output_type": "execute_result"
    }
   ],
   "source": [
    "from sklearn import linear_model\n",
    "from sklearn.model_selection import train_test_split\n",
    "\n",
    "X_sklearn = data[['F10','F11','F20','F21','F22','F30','F31','F32','F33','F40','F41','F42','F43','F44']]\n",
    "y_sklearn = data[['accepted']]\n",
    "X_train,X_test,y_train,y_test = train_test_split(X_sklearn,y_sklearn,test_size = 0.2,random_state = 10)\n",
    "\n",
    "model = linear_model.LogisticRegression()\n",
    "model.fit(X_train,y_train)\n",
    "\n",
    "model.predict(X_test)\n",
    "model.score(X_test,y_test)"
   ]
  },
  {
   "cell_type": "code",
   "execution_count": 441,
   "metadata": {},
   "outputs": [
    {
     "data": {
      "text/plain": [
       "array([[ 0.23787805,  0.70642226, -1.90417526, -0.59927108, -1.32345341,\n",
       "        -0.00284118, -0.34840707, -0.35756701, -0.4297544 , -1.36797538,\n",
       "         0.03979774, -0.61229304, -0.1589216 , -1.23782374]])"
      ]
     },
     "execution_count": 441,
     "metadata": {},
     "output_type": "execute_result"
    }
   ],
   "source": [
    "model.coef_"
   ]
  },
  {
   "cell_type": "code",
   "execution_count": 442,
   "metadata": {},
   "outputs": [
    {
     "data": {
      "text/plain": [
       "array([1.02425543])"
      ]
     },
     "execution_count": 442,
     "metadata": {},
     "output_type": "execute_result"
    }
   ],
   "source": [
    "model.intercept_"
   ]
  },
  {
   "cell_type": "markdown",
   "metadata": {},
   "source": [
    "画出sklearn的决策边界"
   ]
  },
  {
   "cell_type": "code",
   "execution_count": 444,
   "metadata": {},
   "outputs": [
    {
     "data": {
      "text/plain": [
       "[1.0242554329967297,\n",
       " 0.23787804929839632,\n",
       " 0.7064222613586209,\n",
       " -1.904175259052714,\n",
       " -0.5992710825232352,\n",
       " -1.3234534078978324,\n",
       " -0.002841176986405045,\n",
       " -0.3484070659665357,\n",
       " -0.35756701406084934,\n",
       " -0.4297544006404418,\n",
       " -1.3679753839918225,\n",
       " 0.039797736246522275,\n",
       " -0.6122930381666329,\n",
       " -0.1589215998060587,\n",
       " -1.237823738217939]"
      ]
     },
     "execution_count": 444,
     "metadata": {},
     "output_type": "execute_result"
    }
   ],
   "source": [
    "theta4 = []\n",
    "theta4.append(model.intercept_[0])\n",
    "for i in range(14):\n",
    "    coef = model.coef_[:,i][0]\n",
    "    theta4.append(coef)\n",
    "theta4"
   ]
  },
  {
   "cell_type": "code",
   "execution_count": 445,
   "metadata": {},
   "outputs": [
    {
     "data": {
      "text/plain": [
       "Text(0, 0.5, 'test2 score')"
      ]
     },
     "execution_count": 445,
     "metadata": {},
     "output_type": "execute_result"
    },
    {
     "data": {
      "image/png": "[encoded data removed]",
      "text/plain": [
       "<Figure size 864x576 with 1 Axes>"
      ]
     },
     "metadata": {
      "needs_background": "light"
     },
     "output_type": "display_data"
    }
   ],
   "source": [
    "xx4 = []\n",
    "yy4 = []\n",
    "theta4 = np.matrix(theta4)\n",
    "for i in range(1000):\n",
    "    for j in range(1000):\n",
    "        if np.abs(hfunc(theta4,t1[i],t2[j]))<0.001:\n",
    "            xx4.append(t1[i])\n",
    "            yy4.append(t2[j])\n",
    "\n",
    "plt.subplots(figsize = (12,8))\n",
    "plt.scatter(positive['test1'],positive['test2'],s = 50,color = 'blue',marker = 'o',label = 'Accepted')\n",
    "plt.scatter(negative['test1'],negative['test2'],s = 50,color = 'red',marker = 'x',label = 'Not Accepted')\n",
    "plt.scatter(xx4,yy4,s = 10,color = 'green',label = 'sklearn')\n",
    "plt.legend()\n",
    "plt.xlabel('test1 score')\n",
    "plt.ylabel('test2 score')"
   ]
  }
 ],
 "metadata": {
  "interpreter": {
   "hash": "f32ef77ea81fcb39c4144da4a3e0eae46dc70c4c34d0b9d68f7a08f88e78f0fa"
  },
  "kernelspec": {
   "display_name": "Python 3.10.0 64-bit",
   "language": "python",
   "name": "python3"
  },
  "language_info": {
   "codemirror_mode": {
    "name": "ipython",
    "version": 3
   },
   "file_extension": ".py",
   "mimetype": "text/x-python",
   "name": "python",
   "nbconvert_exporter": "python",
   "pygments_lexer": "ipython3",
   "version": "3.10.0"
  },
  "orig_nbformat": 4
 },
 "nbformat": 4,
 "nbformat_minor": 2
}
